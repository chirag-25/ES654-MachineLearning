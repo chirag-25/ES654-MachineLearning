{
  "cells": [
    {
      "cell_type": "markdown",
      "source": [
        "# **Prerequsite test**"
      ],
      "metadata": {
        "id": "4VVC-v9PZqWO"
      },
      "id": "4VVC-v9PZqWO"
    },
    {
      "cell_type": "markdown",
      "source": [
        "Name: Chirag Sarda <br>\n",
        "Roll No.: 20110047"
      ],
      "metadata": {
        "id": "lC2CK8xKZ2IS"
      },
      "id": "lC2CK8xKZ2IS"
    },
    {
      "cell_type": "markdown",
      "source": [
        "# Question 1"
      ],
      "metadata": {
        "id": "bm3lJN2liasE"
      },
      "id": "bm3lJN2liasE"
    },
    {
      "cell_type": "markdown",
      "source": [
        "Number of multiplication is $n \\times m\\times k$<br> \n",
        "Number of addition is $n \\times m \\times (k-1)$\n",
        "<br>\n",
        "say $n = 1, k = 3, m = 2$ and the matrix be\n",
        "\\begin{bmatrix}\n",
        "a & b & c\n",
        "\\end{bmatrix}\n",
        "<br>\n",
        "\\begin{bmatrix}\n",
        "d & e \\\\\n",
        "f & g \\\\\n",
        "h & i\n",
        "\\end{bmatrix}\n",
        "the resultant matrix is \n",
        "\\begin{bmatrix}\n",
        "ad + bf + ch & ae + bg + ci\\\\\n",
        "\\end{bmatrix}\n",
        "here the number of multilications is: $6 = 1\\times2\\times3(n \\times m\\times k)$<br>\n",
        "here the number of additions is: $4 = 1\\times2\\times(3-1)(n \\times m\\times (k-1))$"
      ],
      "metadata": {
        "id": "S-dpj5Mvibz9"
      },
      "id": "S-dpj5Mvibz9"
    },
    {
      "cell_type": "markdown",
      "id": "1c9e669f",
      "metadata": {
        "id": "1c9e669f"
      },
      "source": [
        "# Question 2"
      ]
    },
    {
      "cell_type": "code",
      "execution_count": 147,
      "id": "5f2a576c",
      "metadata": {
        "id": "5f2a576c"
      },
      "outputs": [],
      "source": [
        "import numpy as np\n",
        "import time"
      ]
    },
    {
      "cell_type": "code",
      "execution_count": 148,
      "id": "e795078c",
      "metadata": {
        "id": "e795078c"
      },
      "outputs": [],
      "source": [
        "# matric muultiplication by standard method (o(n^3))\n",
        "def matrix_multiplication(a, b):\n",
        "    result = [0]* len(a)\n",
        "    for i in range(len(a)):\n",
        "        result[i] = [0]*len(b[0])\n",
        "    for i in range(len(result)):\n",
        "        for j in range(len(result[0])):\n",
        "            for k in range(len(b)):\n",
        "                result[i][j] += a[i][k]*b[k][j]\n",
        "    # print(result)\n",
        "    return result\n",
        "  \n",
        "# matrix multiplcation by numpy\n",
        "def matrix_multiplication_numpy(a,b):\n",
        "    return np.dot(na,nb)"
      ]
    },
    {
      "cell_type": "code",
      "source": [
        "import random\n",
        "# creating the random matrix\n",
        "n = 100\n",
        "k = 15\n",
        "m = 25\n",
        "a = [[random.randint(0, 1) for j in range(k)] for i in range(n)]\n",
        "b = [[random.randint(0, 1) for j in range(m)] for i in range(k)]"
      ],
      "metadata": {
        "id": "Ow-IzBoRudex"
      },
      "id": "Ow-IzBoRudex",
      "execution_count": 149,
      "outputs": []
    },
    {
      "cell_type": "code",
      "execution_count": 150,
      "id": "9e79aed5",
      "metadata": {
        "colab": {
          "base_uri": "https://localhost:8080/"
        },
        "id": "9e79aed5",
        "outputId": "09551c15-ea90-4ca9-8c8b-49af4331ff94"
      },
      "outputs": [
        {
          "output_type": "stream",
          "name": "stdout",
          "text": [
            "10.1 ms ± 145 µs per loop (mean ± std. dev. of 7 runs, 100 loops each)\n"
          ]
        }
      ],
      "source": [
        "%%timeit -n 100\n",
        "resultant_matrix = matrix_multiplication(a, b)\n",
        "# print(resultant_matrix)"
      ]
    },
    {
      "cell_type": "code",
      "source": [
        "# converting in numpy arraay\n",
        "na = np.array(a)\n",
        "nb = np.array(b)"
      ],
      "metadata": {
        "id": "1C7CHSk6paHv"
      },
      "id": "1C7CHSk6paHv",
      "execution_count": 151,
      "outputs": []
    },
    {
      "cell_type": "code",
      "execution_count": 152,
      "id": "b8e4a1c0",
      "metadata": {
        "colab": {
          "base_uri": "https://localhost:8080/"
        },
        "id": "b8e4a1c0",
        "outputId": "588cecf4-0849-4a49-d24a-e8bbd0d0c558"
      },
      "outputs": [
        {
          "output_type": "stream",
          "name": "stdout",
          "text": [
            "89.2 µs ± 47.6 µs per loop (mean ± std. dev. of 7 runs, 100 loops each)\n"
          ]
        }
      ],
      "source": [
        "%%timeit -n 100\n",
        "resultant_matrix = matrix_multiplication_numpy(a, b)\n",
        "# print(resultant_matrix)"
      ]
    },
    {
      "cell_type": "markdown",
      "source": [
        "The above result shows that numpy multiplication takes lower time while standard matric multilication takes more time"
      ],
      "metadata": {
        "id": "5Ne-J6A9Tn2L"
      },
      "id": "5Ne-J6A9Tn2L"
    },
    {
      "cell_type": "markdown",
      "id": "a4687954",
      "metadata": {
        "id": "a4687954"
      },
      "source": [
        "# Question 3"
      ]
    },
    {
      "cell_type": "markdown",
      "id": "1b87ffba",
      "metadata": {
        "id": "1b87ffba"
      },
      "source": [
        "The pass method will take $ o(n^2) $ as it will take approx $n/2$ pass to get the median, hence $n^2$\n",
        "<br>\n",
        "Better method is first sort the array which will take $o(nlogn)$ then we can find the median in $o(1)$ time,"
      ]
    },
    {
      "cell_type": "code",
      "source": [
        "# time complexity = o(n^2) median by pass\n",
        "def median_pass_method(a):\n",
        "  _median = 0\n",
        "  # partially sorting in decreasing oreder\n",
        "  for i in range(len(a)):\n",
        "      current_max = a[i]\n",
        "      current_max_position = i\n",
        "      for  j in range(i+1, len(a)):\n",
        "          if a[j] > current_max:\n",
        "              current_max = a[j]\n",
        "              current_max_position = j\n",
        "      a[i], a[current_max_position] = a[current_max_position], a[i]\n",
        "      # now a[i] will give the i + 1 th highest\n",
        "      if i == len(a)//2:\n",
        "          if len(a)%2 == 0:\n",
        "              _median = (a[len(a)//2] + a[len(a)//2 - 1])/2\n",
        "          else:\n",
        "              _median = a[len(a)//2] \n",
        "          break\n",
        "  return _median\n",
        "\n",
        "# time complexity = o(nlogn) \n",
        "def median_sort_method(a):\n",
        "  # median by sorting\n",
        "  a.sort()\n",
        "  _median = 0\n",
        "  if(len(a)%2 == 0): # lenght is even\n",
        "      _median = (a[len(a)//2] + a[(len(a)//2) - 1])/2\n",
        "  else:\n",
        "      _median = a[(len(a)//2)]\n",
        "  return _median\n",
        "\n",
        "# median by numpy \n",
        "def median_numpy(a):\n",
        "  return np.median(a)\n"
      ],
      "metadata": {
        "id": "o2uPFTkVv2mk"
      },
      "id": "o2uPFTkVv2mk",
      "execution_count": 153,
      "outputs": []
    },
    {
      "cell_type": "code",
      "execution_count": 154,
      "id": "c3863afd",
      "metadata": {
        "id": "c3863afd"
      },
      "outputs": [],
      "source": [
        "no_of_element = 100\n",
        "median_list = [random.randint(0, 10000)  for i in range(no_of_element)]\n",
        "# median_list"
      ]
    },
    {
      "cell_type": "code",
      "execution_count": 155,
      "id": "35b1e328",
      "metadata": {
        "collapsed": true,
        "id": "35b1e328",
        "colab": {
          "base_uri": "https://localhost:8080/"
        },
        "outputId": "773e41e7-7056-41d2-8cc4-65d0838a59ba"
      },
      "outputs": [
        {
          "output_type": "stream",
          "name": "stdout",
          "text": [
            "282 µs ± 22.4 µs per loop (mean ± std. dev. of 7 runs, 100 loops each)\n"
          ]
        }
      ],
      "source": [
        "%%timeit -n 100\n",
        "# median by pass method\n",
        "_median = median_pass_method(median_list)\n",
        "# print(_median)"
      ]
    },
    {
      "cell_type": "code",
      "execution_count": 156,
      "id": "9afa0fbc",
      "metadata": {
        "collapsed": true,
        "id": "9afa0fbc",
        "colab": {
          "base_uri": "https://localhost:8080/"
        },
        "outputId": "96b4cf5e-971a-45c2-d052-5e21d143173d"
      },
      "outputs": [
        {
          "output_type": "stream",
          "name": "stdout",
          "text": [
            "1.22 µs ± 123 ns per loop (mean ± std. dev. of 7 runs, 100 loops each)\n"
          ]
        }
      ],
      "source": [
        "%%timeit -n 100\n",
        "# medina by sort method\n",
        "_median = median_sort_method(median_list)\n",
        "# print(_median)"
      ]
    },
    {
      "cell_type": "code",
      "source": [
        "n_median_list = np.array(median_list)"
      ],
      "metadata": {
        "id": "t6gNvNfSxrXA"
      },
      "id": "t6gNvNfSxrXA",
      "execution_count": 157,
      "outputs": []
    },
    {
      "cell_type": "code",
      "execution_count": 158,
      "id": "8b14b7b4",
      "metadata": {
        "collapsed": true,
        "id": "8b14b7b4",
        "colab": {
          "base_uri": "https://localhost:8080/"
        },
        "outputId": "f38ccd94-07e5-4c27-a72a-078d71b26b7e"
      },
      "outputs": [
        {
          "output_type": "stream",
          "name": "stdout",
          "text": [
            "The slowest run took 4.89 times longer than the fastest. This could mean that an intermediate result is being cached.\n",
            "44.2 µs ± 29.7 µs per loop (mean ± std. dev. of 7 runs, 100 loops each)\n"
          ]
        }
      ],
      "source": [
        "%%timeit -n 100\n",
        "_median = median_numpy(n_median_list)\n",
        "# print(_median)"
      ]
    },
    {
      "cell_type": "markdown",
      "source": [
        "The above result shows that median by numpy is slower then sorting method while the pass method is slowest"
      ],
      "metadata": {
        "id": "nDieXzgFXFK2"
      },
      "id": "nDieXzgFXFK2"
    },
    {
      "cell_type": "markdown",
      "id": "4c4a4b6d",
      "metadata": {
        "id": "4c4a4b6d"
      },
      "source": [
        "# QUESTION 4"
      ]
    },
    {
      "cell_type": "markdown",
      "id": "13908f5e",
      "metadata": {
        "id": "13908f5e"
      },
      "source": [
        "Gradient with respect to x: $2xy + y^3cos(x)$\n",
        "<br>\n",
        "Gradient with respect to y: $x^2 + 3y^3sin(x)$\n",
        "    "
      ]
    },
    {
      "cell_type": "markdown",
      "id": "b4db85e3",
      "metadata": {
        "id": "b4db85e3"
      },
      "source": [
        "# Question 5"
      ]
    },
    {
      "cell_type": "code",
      "execution_count": 159,
      "id": "d2bdee1d",
      "metadata": {
        "id": "d2bdee1d",
        "colab": {
          "base_uri": "https://localhost:8080/"
        },
        "outputId": "a54b03a7-75a8-4932-c4ff-5c45917f3497"
      },
      "outputs": [
        {
          "output_type": "stream",
          "name": "stdout",
          "text": [
            "Analyticla gradient:\n",
            "0.15996413 0.03490072\n",
            "0.58489573 1.0775102\n",
            "0.05166874 0.35935205\n",
            "0.09116794 0.013529514\n",
            "0.8125278 1.2154531\n",
            "\n",
            "Numerical gradient:\n",
            "0.15996413 0.03490072\n",
            "0.58489573 1.0775102\n",
            "0.051668745 0.35935205\n",
            "0.09116794 0.013529514\n",
            "0.8125278 1.2154531\n"
          ]
        }
      ],
      "source": [
        "import jax\n",
        "import numpy as np\n",
        "\n",
        "# given fucntion\n",
        "def f(x, y):\n",
        "  return (x**2)*y + (y**3)*jax.numpy.sin(x) \n",
        "\n",
        "# analytical gradient with respect to x\n",
        "def fx(x, y):\n",
        "  return 2*x*y + (y**3)*jax.numpy.cos(x)\n",
        "\n",
        "# analytical gradient with respect to y\n",
        "def fy(x, y):\n",
        "  return x**2 + 3*(y**2)*jax.numpy.sin(x)\n",
        "\n",
        "# random values for test\n",
        "x = np.random.random([5])\n",
        "y = np.random.random([5])\n",
        "# print(x, y)\n",
        "\n",
        "# jax gradient method\n",
        "numerical_grad_x = jax.grad(f,argnums = 0) # with respect to x\n",
        "numerical_grad_y = jax.grad(f,argnums =1) # with respect to y\n",
        "\n",
        "print(\"Analyticla gradient:\")\n",
        "for i in range(len(x)):\n",
        "  print(fx(x[i], y[i]), fy(x[i], y[i]))\n",
        "\n",
        "print(\"\\nNumerical gradient:\")\n",
        "for i in range(len(x)):\n",
        "  print(numerical_grad_x(x[i], y[i]), numerical_grad_y(x[i], y[i]))"
      ]
    },
    {
      "cell_type": "markdown",
      "source": [
        "# Question 6"
      ],
      "metadata": {
        "id": "DPjUZfN2gwmt"
      },
      "id": "DPjUZfN2gwmt"
    },
    {
      "cell_type": "code",
      "source": [
        "import sympy\n",
        "\n",
        "x , y = sympy.symbols('x y')\n",
        "func = (x**2)*y + (y**3)*sympy.sin(x)\n",
        "\n",
        "#Differentiating partially w.r.t x\n",
        "derivative_f_x = func.diff(x)\n",
        "#Differentiating partially w.r.t y\n",
        "derivative_f_y = func.diff(y)\n",
        "\n",
        "print(derivative_f_x)\n",
        "print(derivative_f_y)"
      ],
      "metadata": {
        "id": "YwtjJs6ugvg6",
        "colab": {
          "base_uri": "https://localhost:8080/"
        },
        "outputId": "1c8237a2-7392-42bf-d4a8-8dba95b66296"
      },
      "id": "YwtjJs6ugvg6",
      "execution_count": 160,
      "outputs": [
        {
          "output_type": "stream",
          "name": "stdout",
          "text": [
            "2*x*y + y**3*cos(x)\n",
            "x**2 + 3*y**2*sin(x)\n"
          ]
        }
      ]
    },
    {
      "cell_type": "markdown",
      "id": "0b900a44",
      "metadata": {
        "id": "0b900a44"
      },
      "source": [
        "# Question 7"
      ]
    },
    {
      "cell_type": "code",
      "execution_count": 161,
      "id": "25e02cb3",
      "metadata": {
        "id": "25e02cb3",
        "colab": {
          "base_uri": "https://localhost:8080/"
        },
        "outputId": "abd0e6ea-89ea-4774-d95d-94ec6e2476e6"
      },
      "outputs": [
        {
          "output_type": "stream",
          "name": "stdout",
          "text": [
            "{2022: {'Branch 1': {1: {'Name': 'Chirag', 'Roll Number': 20110047, 'Marks': {'Math': 100, 'English': 100, 'Science': 100}}, 2: {'Name': 'xyz', 'Roll Number': 2011004745, 'Marks': {'Math': 0, 'English': 0, 'Science': 0}}}, 'Branch 2': {}}, 2023: {'Branch 1': {}, 'Branch 2': {}}, 2024: {'Branch 1': {}, 'Branch 2': {}}, 2025: {'Branch 1': {}, 'Branch 2': {}}}\n"
          ]
        }
      ],
      "source": [
        "student_records = {\n",
        "    2022: {\n",
        "        \"Branch 1\":\n",
        "            {\n",
        "                1: {\n",
        "                    \"Name\": \"Chirag\",\n",
        "                    \"Roll Number\": 20110047,\n",
        "                    \"Marks\": {\n",
        "                        \"Math\": 100,\n",
        "                        \"English\": 100,\n",
        "                        \"Science\": 100\n",
        "                    }\n",
        "                },\n",
        "             2: {\n",
        "                    \"Name\": \"xyz\",\n",
        "                    \"Roll Number\": 2011004745,\n",
        "                    \"Marks\": {\n",
        "                        \"Math\": 0,\n",
        "                        \"English\": 0,\n",
        "                        \"Science\": 0\n",
        "                    }\n",
        "                }\n",
        "            },\n",
        "        \"Branch 2\": {}\n",
        "    },\n",
        "    2023: {\n",
        "      \"Branch 1\": {},\n",
        "      \"Branch 2\": {}  \n",
        "    },\n",
        "    2024: {\n",
        "      \"Branch 1\": {},\n",
        "      \"Branch 2\": {}  \n",
        "    },\n",
        "    2025: {\n",
        "      \"Branch 1\": {},\n",
        "      \"Branch 2\": {}  \n",
        "    }\n",
        "}\n",
        "print(student_records)"
      ]
    },
    {
      "cell_type": "markdown",
      "id": "71d55d78",
      "metadata": {
        "id": "71d55d78"
      },
      "source": [
        "# Question 8"
      ]
    },
    {
      "cell_type": "code",
      "execution_count": 162,
      "id": "dbed4c3c",
      "metadata": {
        "id": "dbed4c3c",
        "colab": {
          "base_uri": "https://localhost:8080/"
        },
        "outputId": "4e3c5262-5fcf-4a01-9999-56b9c66016b8"
      },
      "outputs": [
        {
          "output_type": "stream",
          "name": "stdout",
          "text": [
            "Chirag\n"
          ]
        }
      ],
      "source": [
        "class Student_Database:\n",
        "    def __init__(self):\n",
        "        self.years = []\n",
        "\n",
        "class Year:\n",
        "    def __init__(self):\n",
        "        self.branches = []\n",
        "\n",
        "class Branch:\n",
        "    def __init__(self):\n",
        "        self.students = []\n",
        "\n",
        "class Student:\n",
        "    def __init__(self, name, roll_number, marks):\n",
        "        self.name = name\n",
        "        self.marks = marks\n",
        "        self.roll_number = roll_number\n",
        "        \n",
        "\n",
        "# creating the student database object\n",
        "st_db = Student_Database()\n",
        "\n",
        "# creating the year object y2022, that will be put in st_db object's year list\n",
        "y2022 = Year()\n",
        "st_db.years.append(y2022)\n",
        "\n",
        "# creating the branch object branch1, that will be put in y2022 object's branch list\n",
        "branch1 = Branch()\n",
        "y2022.branches.append(branch1)\n",
        "\n",
        "# creating the student object s that will put in above branch 1\n",
        "s = Student(\"Chirag\",20110047,{\"English\": 100, \"Maths\": 100, \"Science\":100})\n",
        "branch1.students.append(s)\n",
        "\n",
        "marks = st_db.years[0].branches[0].students[0].name\n",
        "print(marks)"
      ]
    },
    {
      "cell_type": "markdown",
      "source": [
        "# Question 9"
      ],
      "metadata": {
        "id": "DHDHx_dviKm6"
      },
      "id": "DHDHx_dviKm6"
    },
    {
      "cell_type": "code",
      "execution_count": 163,
      "id": "e5476c52",
      "metadata": {
        "id": "e5476c52"
      },
      "outputs": [],
      "source": [
        "#  x = 0.5 to 100.0 in steps of 0.5\n",
        "abscissa = []\n",
        "step = 0.5\n",
        "while step <= 100:\n",
        "    abscissa.append(step)\n",
        "    step += 0.5"
      ]
    },
    {
      "cell_type": "code",
      "execution_count": 164,
      "id": "48690bcc",
      "metadata": {
        "collapsed": true,
        "id": "48690bcc",
        "colab": {
          "base_uri": "https://localhost:8080/",
          "height": 279
        },
        "outputId": "3b9e5873-1d15-4be0-b55d-3a532fde8c20"
      },
      "outputs": [
        {
          "output_type": "display_data",
          "data": {
            "text/plain": [
              "<Figure size 432x288 with 1 Axes>"
            ],
            "image/png": "[encoded data removed]"
          },
          "metadata": {
            "needs_background": "light"
          }
        }
      ],
      "source": [
        "import matplotlib.pyplot as plt\n",
        "import math\n",
        "\n",
        "# 1: y = x\n",
        "\n",
        "# finding the y coordinate\n",
        "def f1(abscissa):\n",
        "    coordinate = []\n",
        "    for i in abscissa:\n",
        "        coordinate.append(i)\n",
        "    return coordinate\n",
        "\n",
        "# y coordinate list\n",
        "coordinate = f1(abscissa)\n",
        "\n",
        "# plotting the curve\n",
        "plt.plot(abscissa,coordinate)\n",
        "plt.xlabel('x')\n",
        "plt.ylabel('y')\n",
        "\n",
        "# displaying the curve\n",
        "plt.show()\n"
      ]
    },
    {
      "cell_type": "code",
      "execution_count": 165,
      "id": "f11f1ca4",
      "metadata": {
        "collapsed": true,
        "id": "f11f1ca4",
        "colab": {
          "base_uri": "https://localhost:8080/",
          "height": 279
        },
        "outputId": "e5a5f263-504c-412a-c554-238da09aad16"
      },
      "outputs": [
        {
          "output_type": "display_data",
          "data": {
            "text/plain": [
              "<Figure size 432x288 with 1 Axes>"
            ],
            "image/png": "[encoded data removed]"
          },
          "metadata": {
            "needs_background": "light"
          }
        }
      ],
      "source": [
        "#2: y = x^2\n",
        "def f2(abscissa):\n",
        "    coordinate = []\n",
        "    for i in abscissa:\n",
        "        coordinate.append(i*i)\n",
        "    return coordinate\n",
        "\n",
        "coordinate = f2(abscissa)\n",
        "plt.plot(abscissa,coordinate)\n",
        "plt.xlabel('x')\n",
        "plt.ylabel('y')\n",
        "plt.show()"
      ]
    },
    {
      "cell_type": "code",
      "execution_count": 166,
      "id": "30b7a078",
      "metadata": {
        "collapsed": true,
        "id": "30b7a078",
        "colab": {
          "base_uri": "https://localhost:8080/",
          "height": 279
        },
        "outputId": "fa394c04-591f-4c6a-b578-7b602b70913e"
      },
      "outputs": [
        {
          "output_type": "display_data",
          "data": {
            "text/plain": [
              "<Figure size 432x288 with 1 Axes>"
            ],
            "image/png": "[encoded data removed]"
          },
          "metadata": {
            "needs_background": "light"
          }
        }
      ],
      "source": [
        "\n",
        "# 3: y = x^3/100\n",
        "def f3(abscissa):\n",
        "    coordinate = []\n",
        "    for i in abscissa:\n",
        "        coordinate.append((i*i*i)/100)\n",
        "        \n",
        "    return coordinate\n",
        "\n",
        "coordinate = f3(abscissa)\n",
        "plt.plot(abscissa,coordinate)\n",
        "plt.xlabel('x')\n",
        "plt.ylabel('y')\n",
        "plt.show()"
      ]
    },
    {
      "cell_type": "code",
      "execution_count": 167,
      "id": "ee10ab50",
      "metadata": {
        "collapsed": true,
        "id": "ee10ab50",
        "colab": {
          "base_uri": "https://localhost:8080/",
          "height": 279
        },
        "outputId": "a6202acf-9748-42c4-bf54-713e04cf1bb9"
      },
      "outputs": [
        {
          "output_type": "display_data",
          "data": {
            "text/plain": [
              "<Figure size 432x288 with 1 Axes>"
            ],
            "image/png": "[encoded data removed]"
          },
          "metadata": {
            "needs_background": "light"
          }
        }
      ],
      "source": [
        "\n",
        "# 4: y = sin(x)\n",
        "def f4(abscissa):\n",
        "    coordinate = []\n",
        "    for i in abscissa:\n",
        "        coordinate.append(math.sin(i))\n",
        "    return coordinate\n",
        "\n",
        "coordinate = f4(abscissa)\n",
        "plt.plot(abscissa,coordinate)\n",
        "plt.xlabel('x')\n",
        "plt.ylabel('y')\n",
        "plt.show()"
      ]
    },
    {
      "cell_type": "code",
      "execution_count": 168,
      "id": "c8614382",
      "metadata": {
        "collapsed": true,
        "id": "c8614382",
        "colab": {
          "base_uri": "https://localhost:8080/",
          "height": 280
        },
        "outputId": "b17dfceb-ae4e-4156-9f37-77d655e0375c"
      },
      "outputs": [
        {
          "output_type": "display_data",
          "data": {
            "text/plain": [
              "<Figure size 432x288 with 1 Axes>"
            ],
            "image/png": "[encoded data removed]"
          },
          "metadata": {
            "needs_background": "light"
          }
        }
      ],
      "source": [
        "# 5: y = sin(x)/x\n",
        "def f5(abscissa):\n",
        "    coordinate = []\n",
        "    for i in abscissa:\n",
        "        coordinate.append((math.sin(i))/i)      \n",
        "        \n",
        "    return coordinate\n",
        "\n",
        "coordinate = f5(abscissa)\n",
        "plt.plot(abscissa,coordinate)\n",
        "plt.xlabel('x')\n",
        "plt.ylabel('y')\n",
        "plt.show()"
      ]
    },
    {
      "cell_type": "code",
      "execution_count": 169,
      "id": "ba318c7a",
      "metadata": {
        "collapsed": true,
        "id": "ba318c7a",
        "colab": {
          "base_uri": "https://localhost:8080/",
          "height": 279
        },
        "outputId": "af5aaa31-b03a-4ae1-9eab-adec16ccaeed"
      },
      "outputs": [
        {
          "output_type": "display_data",
          "data": {
            "text/plain": [
              "<Figure size 432x288 with 1 Axes>"
            ],
            "image/png": "[encoded data removed]"
          },
          "metadata": {
            "needs_background": "light"
          }
        }
      ],
      "source": [
        "# 6: y = log(x)\n",
        "def f6(abscissa):\n",
        "    coordinate = []\n",
        "    for i in abscissa:\n",
        "        coordinate.append(math.log(i))\n",
        "    return coordinate\n",
        "\n",
        "coordinate = f6(abscissa)\n",
        "plt.plot(abscissa,coordinate)\n",
        "plt.xlabel('x')\n",
        "plt.ylabel('y')\n",
        "plt.show()"
      ]
    },
    {
      "cell_type": "code",
      "execution_count": 170,
      "id": "04b8f20d",
      "metadata": {
        "collapsed": true,
        "id": "04b8f20d",
        "colab": {
          "base_uri": "https://localhost:8080/",
          "height": 290
        },
        "outputId": "3c1a4300-d508-4735-d346-a948059eea62"
      },
      "outputs": [
        {
          "output_type": "display_data",
          "data": {
            "text/plain": [
              "<Figure size 432x288 with 1 Axes>"
            ],
            "image/png": "[encoded data removed]"
          },
          "metadata": {
            "needs_background": "light"
          }
        }
      ],
      "source": [
        "# 7: y = e^x\n",
        "def f7(abscissa):\n",
        "    coordinate = []\n",
        "    for i in abscissa:\n",
        "        coordinate.append(math.exp(i))      \n",
        "    return coordinate\n",
        "\n",
        "coordinate = f7(abscissa)\n",
        "plt.plot(abscissa,coordinate)\n",
        "plt.xlabel('x')\n",
        "plt.ylabel('y')\n",
        "plt.show()"
      ]
    },
    {
      "cell_type": "markdown",
      "id": "bbd97ce0",
      "metadata": {
        "id": "bbd97ce0"
      },
      "source": [
        "# Question 10"
      ]
    },
    {
      "cell_type": "code",
      "execution_count": 171,
      "id": "1b18297c",
      "metadata": {
        "id": "1b18297c",
        "colab": {
          "base_uri": "https://localhost:8080/"
        },
        "outputId": "1fb6d338-0bcd-45cb-a15e-e4f8ecf2d8bb"
      },
      "outputs": [
        {
          "output_type": "stream",
          "name": "stdout",
          "text": [
            "[[1.59554889 1.39256027 1.51284719 1.66687502 1.748497  ]\n",
            " [1.55872625 1.03463902 1.79566703 1.16346863 1.22758643]\n",
            " [1.09191631 1.3133415  1.65284653 1.51784078 1.07428587]\n",
            " [1.00363189 1.99408116 1.56495453 1.51600685 1.83544591]\n",
            " [1.56658842 1.4316957  1.84915346 1.49113387 1.14877514]\n",
            " [1.86134081 1.44355859 1.7581986  1.7407746  1.19754036]\n",
            " [1.43149827 1.70393162 1.29420299 1.61781007 1.72965431]\n",
            " [1.49624004 1.99569108 1.7527112  1.47005013 1.82997477]\n",
            " [1.98618928 1.85503225 1.48510488 1.39641898 1.11994893]\n",
            " [1.09841002 1.24629099 1.46165035 1.79471299 1.69021786]\n",
            " [1.46572818 1.98523611 1.17366791 1.22217575 1.99818447]\n",
            " [1.58694082 1.5850247  1.59218675 1.92245006 1.54607497]\n",
            " [1.96416761 1.12973151 1.60739593 1.01381395 1.88537763]\n",
            " [1.6706858  1.24196373 1.11679635 1.74232957 1.0602831 ]\n",
            " [1.9486216  1.96901299 1.23875558 1.01913586 1.62858936]\n",
            " [1.55901275 1.97914842 1.80500294 1.50183831 1.48280785]\n",
            " [1.87862008 1.47826556 1.02365666 1.82753461 1.85539066]\n",
            " [1.9008893  1.34016938 1.66992655 1.41481675 1.14053762]\n",
            " [1.98025115 1.91660256 1.31262143 1.6547336  1.96227855]\n",
            " [1.75218293 1.02640179 1.1659376  1.78280237 1.58359447]]\n"
          ]
        }
      ],
      "source": [
        "import pandas as pd\n",
        "\n",
        "# generate a matrix of size 20X5 containing random numbers drawn uniformly from the range of 1 to 2.\n",
        "np_matrix = np.random.uniform(1, 2, size=(20, 5))\n",
        "print(np_matrix)"
      ]
    },
    {
      "cell_type": "code",
      "execution_count": 172,
      "id": "2201b831",
      "metadata": {
        "id": "2201b831",
        "colab": {
          "base_uri": "https://localhost:8080/"
        },
        "outputId": "c2264715-c733-4c95-f840-8b354138d4f9"
      },
      "outputs": [
        {
          "output_type": "stream",
          "name": "stdout",
          "text": [
            "           a         b         c         d         e\n",
            "0   1.595549  1.392560  1.512847  1.666875  1.748497\n",
            "1   1.558726  1.034639  1.795667  1.163469  1.227586\n",
            "2   1.091916  1.313341  1.652847  1.517841  1.074286\n",
            "3   1.003632  1.994081  1.564955  1.516007  1.835446\n",
            "4   1.566588  1.431696  1.849153  1.491134  1.148775\n",
            "5   1.861341  1.443559  1.758199  1.740775  1.197540\n",
            "6   1.431498  1.703932  1.294203  1.617810  1.729654\n",
            "7   1.496240  1.995691  1.752711  1.470050  1.829975\n",
            "8   1.986189  1.855032  1.485105  1.396419  1.119949\n",
            "9   1.098410  1.246291  1.461650  1.794713  1.690218\n",
            "10  1.465728  1.985236  1.173668  1.222176  1.998184\n",
            "11  1.586941  1.585025  1.592187  1.922450  1.546075\n",
            "12  1.964168  1.129732  1.607396  1.013814  1.885378\n",
            "13  1.670686  1.241964  1.116796  1.742330  1.060283\n",
            "14  1.948622  1.969013  1.238756  1.019136  1.628589\n",
            "15  1.559013  1.979148  1.805003  1.501838  1.482808\n",
            "16  1.878620  1.478266  1.023657  1.827535  1.855391\n",
            "17  1.900889  1.340169  1.669927  1.414817  1.140538\n",
            "18  1.980251  1.916603  1.312621  1.654734  1.962279\n",
            "19  1.752183  1.026402  1.165938  1.782802  1.583594\n"
          ]
        }
      ],
      "source": [
        "# create a dataframe out of the np_matrix with the columns name as “a”, “b”, “c”, “d”, “e”\n",
        "df = pd.DataFrame(np_matrix, columns=[\"a\", \"b\", \"c\", \"d\", \"e\"])\n",
        "print(df)"
      ]
    },
    {
      "cell_type": "code",
      "execution_count": 173,
      "id": "b79b9520",
      "metadata": {
        "id": "b79b9520",
        "colab": {
          "base_uri": "https://localhost:8080/"
        },
        "outputId": "5a29a088-d82e-41e1-e803-e923f0ec370c"
      },
      "outputs": [
        {
          "output_type": "stream",
          "name": "stdout",
          "text": [
            "b\n"
          ]
        }
      ],
      "source": [
        "# the column (axis = 0) with the highest standard deviation. \n",
        "max_std_deviation_col  = df.std(axis=0).idxmax()\n",
        "print(max_std_deviation_col)"
      ]
    },
    {
      "cell_type": "code",
      "execution_count": 174,
      "id": "f7d33232",
      "metadata": {
        "id": "f7d33232",
        "colab": {
          "base_uri": "https://localhost:8080/"
        },
        "outputId": "9b51c833-4e8b-4572-dae1-658efa6557e7"
      },
      "outputs": [
        {
          "output_type": "stream",
          "name": "stdout",
          "text": [
            "2\n"
          ]
        }
      ],
      "source": [
        "# # the row (axis = 1) with the lowest mean. \n",
        "min_mean_row = df.mean(axis=1).idxmin()\n",
        "print(min_mean_row)"
      ]
    },
    {
      "cell_type": "markdown",
      "id": "8142de65",
      "metadata": {
        "id": "8142de65"
      },
      "source": [
        "# Question 11"
      ]
    },
    {
      "cell_type": "code",
      "execution_count": 175,
      "id": "59d8b762",
      "metadata": {
        "id": "59d8b762",
        "colab": {
          "base_uri": "https://localhost:8080/"
        },
        "outputId": "095f83ef-bd60-4fcb-dc39-91935347d376"
      },
      "outputs": [
        {
          "output_type": "stream",
          "name": "stdout",
          "text": [
            "           a         b         c         d         e         f\n",
            "0   1.595549  1.392560  1.512847  1.666875  1.748497  7.916328\n",
            "1   1.558726  1.034639  1.795667  1.163469  1.227586  6.780087\n",
            "2   1.091916  1.313341  1.652847  1.517841  1.074286  6.650231\n",
            "3   1.003632  1.994081  1.564955  1.516007  1.835446  7.914120\n",
            "4   1.566588  1.431696  1.849153  1.491134  1.148775  7.487347\n",
            "5   1.861341  1.443559  1.758199  1.740775  1.197540  8.001413\n",
            "6   1.431498  1.703932  1.294203  1.617810  1.729654  7.777097\n",
            "7   1.496240  1.995691  1.752711  1.470050  1.829975  8.544667\n",
            "8   1.986189  1.855032  1.485105  1.396419  1.119949  7.842694\n",
            "9   1.098410  1.246291  1.461650  1.794713  1.690218  7.291282\n",
            "10  1.465728  1.985236  1.173668  1.222176  1.998184  7.844992\n",
            "11  1.586941  1.585025  1.592187  1.922450  1.546075  8.232677\n",
            "12  1.964168  1.129732  1.607396  1.013814  1.885378  7.600487\n",
            "13  1.670686  1.241964  1.116796  1.742330  1.060283  6.832059\n",
            "14  1.948622  1.969013  1.238756  1.019136  1.628589  7.804115\n",
            "15  1.559013  1.979148  1.805003  1.501838  1.482808  8.327810\n",
            "16  1.878620  1.478266  1.023657  1.827535  1.855391  8.063468\n",
            "17  1.900889  1.340169  1.669927  1.414817  1.140538  7.466340\n",
            "18  1.980251  1.916603  1.312621  1.654734  1.962279  8.826487\n",
            "19  1.752183  1.026402  1.165938  1.782802  1.583594  7.310919\n"
          ]
        }
      ],
      "source": [
        "# adding a new column to the above dataframe\n",
        "df[\"f\"] = df[[\"a\", \"b\", \"c\", \"d\", \"e\"]].sum(axis=1)\n",
        "print(df)"
      ]
    },
    {
      "cell_type": "code",
      "execution_count": 176,
      "id": "3c3a610f",
      "metadata": {
        "id": "3c3a610f",
        "colab": {
          "base_uri": "https://localhost:8080/"
        },
        "outputId": "89b07d1e-10e0-459f-ba5c-97af2c61842f"
      },
      "outputs": [
        {
          "output_type": "stream",
          "name": "stdout",
          "text": [
            "           a         b         c         d         e         f    g\n",
            "0   1.595549  1.392560  1.512847  1.666875  1.748497  7.916328  LT8\n",
            "1   1.558726  1.034639  1.795667  1.163469  1.227586  6.780087  LT8\n",
            "2   1.091916  1.313341  1.652847  1.517841  1.074286  6.650231  LT8\n",
            "3   1.003632  1.994081  1.564955  1.516007  1.835446  7.914120  LT8\n",
            "4   1.566588  1.431696  1.849153  1.491134  1.148775  7.487347  LT8\n",
            "5   1.861341  1.443559  1.758199  1.740775  1.197540  8.001413  GT8\n",
            "6   1.431498  1.703932  1.294203  1.617810  1.729654  7.777097  LT8\n",
            "7   1.496240  1.995691  1.752711  1.470050  1.829975  8.544667  GT8\n",
            "8   1.986189  1.855032  1.485105  1.396419  1.119949  7.842694  LT8\n",
            "9   1.098410  1.246291  1.461650  1.794713  1.690218  7.291282  LT8\n",
            "10  1.465728  1.985236  1.173668  1.222176  1.998184  7.844992  LT8\n",
            "11  1.586941  1.585025  1.592187  1.922450  1.546075  8.232677  GT8\n",
            "12  1.964168  1.129732  1.607396  1.013814  1.885378  7.600487  LT8\n",
            "13  1.670686  1.241964  1.116796  1.742330  1.060283  6.832059  LT8\n",
            "14  1.948622  1.969013  1.238756  1.019136  1.628589  7.804115  LT8\n",
            "15  1.559013  1.979148  1.805003  1.501838  1.482808  8.327810  GT8\n",
            "16  1.878620  1.478266  1.023657  1.827535  1.855391  8.063468  GT8\n",
            "17  1.900889  1.340169  1.669927  1.414817  1.140538  7.466340  LT8\n",
            "18  1.980251  1.916603  1.312621  1.654734  1.962279  8.826487  GT8\n",
            "19  1.752183  1.026402  1.165938  1.782802  1.583594  7.310919  LT8\n"
          ]
        }
      ],
      "source": [
        "# adding a column g with constraints\n",
        "def f_adding_g(row):\n",
        "    if row['f']< 8:\n",
        "        return \"LT8\"\n",
        "    return \"GT8\"\n",
        "df[\"g\"] = df.apply(f_adding_g, axis=1)\n",
        "print(df)"
      ]
    },
    {
      "cell_type": "code",
      "execution_count": 177,
      "id": "798cdaca",
      "metadata": {
        "id": "798cdaca",
        "colab": {
          "base_uri": "https://localhost:8080/"
        },
        "outputId": "6b634dd4-30f2-4f0a-eff3-e60de7b17ff4"
      },
      "outputs": [
        {
          "output_type": "stream",
          "name": "stdout",
          "text": [
            "14\n"
          ]
        }
      ],
      "source": [
        "# the number of rows in the dataframe where the value in the column “g” is “LT8”. \n",
        "count = len(df.query(\"g == 'LT8'\"))\n",
        "print(count)"
      ]
    },
    {
      "cell_type": "code",
      "execution_count": 178,
      "id": "a26275ca",
      "metadata": {
        "id": "a26275ca",
        "colab": {
          "base_uri": "https://localhost:8080/"
        },
        "outputId": "971acf81-5e9f-460d-9c35-89378ab51443"
      },
      "outputs": [
        {
          "output_type": "stream",
          "name": "stdout",
          "text": [
            "0.4395100544285281\n"
          ]
        }
      ],
      "source": [
        "# the standard deviation of the column “f” for the rows where the value in the column “g” is “LT8” \n",
        "std_deviation_lt8 = df.query(\"g == 'LT8'\")[\"f\"].std()\n",
        "print(std_deviation_lt8) "
      ]
    },
    {
      "cell_type": "code",
      "execution_count": 179,
      "id": "0ad3f56f",
      "metadata": {
        "id": "0ad3f56f",
        "colab": {
          "base_uri": "https://localhost:8080/"
        },
        "outputId": "d3ddb80d-3344-4879-91d8-72aceba32949"
      },
      "outputs": [
        {
          "output_type": "stream",
          "name": "stdout",
          "text": [
            "0.3101682228467912\n"
          ]
        }
      ],
      "source": [
        "# the standard deviation of the column “f” for the rows where the value in the column “g” is “GT8” \n",
        "std_deviation_gt8 = df.query(\"g == 'GT8'\")[\"f\"].std()\n",
        "print(std_deviation_gt8) "
      ]
    },
    {
      "cell_type": "markdown",
      "id": "45578652",
      "metadata": {
        "id": "45578652"
      },
      "source": [
        "# Question 12"
      ]
    },
    {
      "cell_type": "markdown",
      "source": [
        "Broadcasting is method by we can perform the arithmatic operation between different numpy array of different shape as long as they are compatible"
      ],
      "metadata": {
        "id": "KrGlqNwJqFaf"
      },
      "id": "KrGlqNwJqFaf"
    },
    {
      "cell_type": "code",
      "source": [
        "arr1 = np.zeros((4,4), dtype=int)\n",
        "arr2 = np.arange(4)\n",
        "print(arr1 + arr2)"
      ],
      "metadata": {
        "id": "_oOKSdx0qfy2",
        "colab": {
          "base_uri": "https://localhost:8080/"
        },
        "outputId": "6cd3556b-7fbb-427f-c626-f2717f04524f"
      },
      "id": "_oOKSdx0qfy2",
      "execution_count": 180,
      "outputs": [
        {
          "output_type": "stream",
          "name": "stdout",
          "text": [
            "[[0 1 2 3]\n",
            " [0 1 2 3]\n",
            " [0 1 2 3]\n",
            " [0 1 2 3]]\n"
          ]
        }
      ]
    },
    {
      "cell_type": "markdown",
      "source": [
        "In the above example $arr1$ is $4×4$ while $arr2$ $4×1$. there size is unequal but when we add them we get $4×4$ matrix, beacuse of brodcasting. Here numpy streches and duplicates the element in $arr2$ to $4×4$ matrx which is then added to $arr1$."
      ],
      "metadata": {
        "id": "-_H-UwQSrM54"
      },
      "id": "-_H-UwQSrM54"
    },
    {
      "cell_type": "code",
      "source": [
        "arr1 = np.zeros((4,4), dtype=int)\n",
        "arr2 = np.arange(5)\n",
        "# print(arr1 + arr2)"
      ],
      "metadata": {
        "id": "O90WOXBHsN8e"
      },
      "id": "O90WOXBHsN8e",
      "execution_count": 181,
      "outputs": []
    },
    {
      "cell_type": "markdown",
      "source": [
        "Here the $arr2$ is not compatible as $1×5$ can't be streched to $4×4$ so gives an error \"operands could not be broadcast together with shapes (4,4) (5,)\""
      ],
      "metadata": {
        "id": "GSd75iTasWEq"
      },
      "id": "GSd75iTasWEq"
    },
    {
      "cell_type": "markdown",
      "id": "d0db49c2",
      "metadata": {
        "id": "d0db49c2"
      },
      "source": [
        "# Question 13"
      ]
    },
    {
      "cell_type": "code",
      "source": [
        "# generating the random numpy array \n",
        "np_arr = np.random.randint(0, 1000, size=(3, 2, 6))\n",
        "print(np_arr)"
      ],
      "metadata": {
        "colab": {
          "base_uri": "https://localhost:8080/"
        },
        "id": "Rw0XC7u6Nly8",
        "outputId": "5e5ea349-1fd6-4b62-aa2d-c4adb6fc18cd"
      },
      "id": "Rw0XC7u6Nly8",
      "execution_count": 182,
      "outputs": [
        {
          "output_type": "stream",
          "name": "stdout",
          "text": [
            "[[[727 894 792  92 271 929]\n",
            "  [306 475 250 664 616 403]]\n",
            "\n",
            " [[713 656 144 917 311 374]\n",
            "  [306 751 874 571 627 655]]\n",
            "\n",
            " [[475 997 319 470 715 738]\n",
            "  [559 293 496 226 996 623]]]\n"
          ]
        }
      ]
    },
    {
      "cell_type": "code",
      "execution_count": 183,
      "id": "1c795282",
      "metadata": {
        "id": "1c795282",
        "colab": {
          "base_uri": "https://localhost:8080/"
        },
        "outputId": "da82074b-76fd-4d85-f718-2e5f63c01d0a"
      },
      "outputs": [
        {
          "output_type": "stream",
          "name": "stdout",
          "text": [
            "[727 894 792  92 271 929 306 475 250 664 616 403 713 656 144 917 311 374\n",
            " 306 751 874 571 627 655 475 997 319 470 715 738 559 293 496 226 996 623]\n",
            "Result of my_argmin: 3\n",
            "Result of inbuilt argmin: 3\n"
          ]
        }
      ],
      "source": [
        "def my_argmin(np_array):\n",
        "  # reshaping the np_array into 1 x n and findig the min \n",
        "  no_of_elements = np.size(np_array)\n",
        "  new_np_array = np.reshape(np_array,(no_of_elements))\n",
        "  print(new_np_array)\n",
        "  \n",
        "  min_element = new_np_array[0]\n",
        "  min_index = 0\n",
        "  for i in range(no_of_elements):\n",
        "    if new_np_array[i] < min_element:\n",
        "      min_element = new_np_array[i]\n",
        "      min_index =  i\n",
        "  # print(min_index)\n",
        "  # print(min_element)\n",
        "  return min_index\n",
        "\n",
        "\n",
        "print(\"Result of my_argmin:\", my_argmin(np_arr))\n",
        "print(\"Result of inbuilt argmin:\", np.argmin(np_arr))\n"
      ]
    }
  ],
  "metadata": {
    "kernelspec": {
      "display_name": "Python 3 (ipykernel)",
      "language": "python",
      "name": "python3"
    },
    "language_info": {
      "codemirror_mode": {
        "name": "ipython",
        "version": 3
      },
      "file_extension": ".py",
      "mimetype": "text/x-python",
      "name": "python",
      "nbconvert_exporter": "python",
      "pygments_lexer": "ipython3",
      "version": "3.10.7"
    },
    "colab": {
      "provenance": [],
      "toc_visible": true
    }
  },
  "nbformat": 4,
  "nbformat_minor": 5
}